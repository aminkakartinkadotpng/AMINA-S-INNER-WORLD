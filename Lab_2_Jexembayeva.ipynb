{
  "nbformat": 4,
  "nbformat_minor": 0,
  "metadata": {
    "colab": {
      "provenance": [],
      "include_colab_link": true
    },
    "kernelspec": {
      "name": "python3",
      "display_name": "Python 3"
    },
    "language_info": {
      "name": "python"
    }
  },
  "cells": [
    {
      "cell_type": "markdown",
      "metadata": {
        "id": "view-in-github",
        "colab_type": "text"
      },
      "source": [
        "<a href=\"https://colab.research.google.com/github/aminkakartinkadotpng/AMINA-S-INNER-WORLD/blob/main/Lab_2_Jexembayeva.ipynb\" target=\"_parent\"><img src=\"https://colab.research.google.com/assets/colab-badge.svg\" alt=\"Open In Colab\"/></a>"
      ]
    },
    {
      "cell_type": "markdown",
      "source": [
        "# Лабораторная работа № 2\n",
        "# Джексембаева Амина Андреевна\n",
        "# Группа: М10-415БКИ-19"
      ],
      "metadata": {
        "id": "zPIL4VUNPdFZ"
      }
    },
    {
      "cell_type": "markdown",
      "source": [
        "Подключаем библиотеки\n"
      ],
      "metadata": {
        "id": "jIsm4jv5Qge5"
      }
    },
    {
      "cell_type": "code",
      "execution_count": 17,
      "metadata": {
        "id": "CbtS8fVwQeUt"
      },
      "outputs": [],
      "source": [
        "import pandas as pd\n",
        "import numpy as np\n",
        "from matplotlib import pyplot as plt\n",
        "import os\n",
        "import pickle\n",
        "from sklearn.preprocessing import LabelEncoder, OneHotEncoder\n",
        "from sklearn.linear_model import PassiveAggressiveClassifier\n",
        "from sklearn.model_selection import train_test_split\n",
        "from sklearn.neighbors import KNeighborsClassifier\n",
        "from sklearn.model_selection import cross_val_score\n",
        "from sklearn.preprocessing import StandardScaler\n",
        "from sklearn.model_selection import RandomizedSearchCV, GridSearchCV\n",
        "from sklearn.linear_model import LogisticRegression\n",
        "from sklearn.model_selection import RandomizedSearchCV, GridSearchCV\n",
        "from warnings import simplefilter\n",
        "from sklearn.exceptions import ConvergenceWarning\n",
        "from sklearn.ensemble import RandomForestClassifier\n",
        "from sklearn.naive_bayes import GaussianNB\n",
        "from sklearn.svm import SVC\n",
        "from sklearn.neighbors import KNeighborsClassifier"
      ]
    },
    {
      "cell_type": "markdown",
      "source": [
        "Загружаем датасет (breast_cancer), заменяем буквы на цифры с помощью labelEncoder- датафрейм\n",
        "Делаем из датафрема 2 массива: features и labels\n",
        "\n"
      ],
      "metadata": {
        "id": "QoLoSnSlLXCt"
      }
    },
    {
      "cell_type": "code",
      "source": [
        "df = pd.read_csv('/content/sample_data/breast_cancer.csv')\n",
        "labelencoder_df = LabelEncoder() \n",
        "labels = labelencoder_df.fit_transform(df.diagnosis)\n",
        "features = ['radius_mean', 'texture_mean', 'perimeter_mean',\n",
        "       'area_mean', 'smoothness_mean', 'compactness_mean', 'concavity_mean',\n",
        "       'concave points_mean', 'symmetry_mean', 'fractal_dimension_mean','radius_se', 'texture_se', 'perimeter_se', 'area_se', 'smoothness_se',\n",
        "       'compactness_se', 'concavity_se', 'concave points_se', 'symmetry_se',\n",
        "       'fractal_dimension_se','radius_worst', 'texture_worst',\n",
        "       'perimeter_worst', 'area_worst', 'smoothness_worst',\n",
        "       'compactness_worst', 'concavity_worst', 'concave points_worst',\n",
        "       'symmetry_worst', 'fractal_dimension_worst']\n",
        "x = df[features]\n",
        "features = np.array(x)"
      ],
      "metadata": {
        "id": "me_dJQCNQmY-"
      },
      "execution_count": 29,
      "outputs": []
    },
    {
      "cell_type": "markdown",
      "source": [
        "# Делим данные на тестовую и тренировочную выборку\n"
      ],
      "metadata": {
        "id": "7meyTuIjMNuA"
      }
    },
    {
      "cell_type": "code",
      "source": [
        "from sklearn.model_selection import train_test_split\n",
        "x_train, x_test, y_train, y_test = train_test_split(features, labels, test_size = 0.2)"
      ],
      "metadata": {
        "id": "e0gWWTCuQpTp"
      },
      "execution_count": 30,
      "outputs": []
    },
    {
      "cell_type": "markdown",
      "source": [
        "Создаем 3 дополнительных функций для обучения: fit_model - функция которая будет обучать модели; write_model- функция которая записывает данные и параметры модели в файлик; result_model - функция, которая выписывает метрики модели\n"
      ],
      "metadata": {
        "id": "4A7aFGT0S3Fx"
      }
    },
    {
      "cell_type": "code",
      "source": [
        "from sklearn.pipeline import Pipeline\n",
        "from sklearn.pipeline import make_pipeline\n",
        "from sklearn.metrics import confusion_matrix, accuracy_score, recall_score, precision_score,roc_auc_score\n",
        "def fit_model(name, model, x_train, y_train):\n",
        "  model.fit(x_train, y_train)\n",
        "  y_pred = model.predict(x_test)\n",
        "  result_model(y_pred)\n",
        "  write_model(model, name)\n",
        "\n",
        "def write_model(model, name):\n",
        "  model_pkl = open(f\"/content/sample_data/{name}.pkl\", \"wb\")\n",
        "  pickle.dump(model, model_pkl, protocol=3)\n",
        "  model_pkl.close()\n",
        "  model_params = open(f\"/content/sample_data/{name}_params.txt\", \"w\")\n",
        "  model_params.write(str(model.best_params_))\n",
        "  model_params.close()\n",
        "  print(model.best_params_)\n",
        "\n",
        "def result_model(y_pred):\n",
        "  print(\n",
        "  f'Confusion matrix:\\n {confusion_matrix(y_test, y_pred)}\\n\\n'\n",
        "  f'Accuracy:\\t\\t{accuracy_score(y_test, y_pred)}\\n'\n",
        "  f'Recall:\\t\\t\\t{recall_score(y_test, y_pred)}\\n'\n",
        "  f'Precision:\\t\\t{precision_score(y_test, y_pred)}\\n'\n",
        "  f'ROC_AUC curve:\\t\\t{roc_auc_score(y_test, y_pred)}\\n')"
      ],
      "metadata": {
        "id": "1e5OjQYBQrQc"
      },
      "execution_count": 39,
      "outputs": []
    },
    {
      "cell_type": "markdown",
      "source": [
        "# 1. Метод опорных векторов\n",
        "Основная идея метода заключается в построении гиперплоскости, разделяющей объекты выборки оптимальным способом. Алгоритм работает в предположении, что чем больше расстояние (зазор) между разделяющей гиперплоскостью и объектами разделяемых классов, тем меньше будет средняя ошибка классификатора. "
      ],
      "metadata": {
        "id": "NFht3KyVTq6_"
      }
    },
    {
      "cell_type": "code",
      "source": [
        "svc_m_pipline = Pipeline([('preprocess', StandardScaler()), ('svcm', SVC())])\n",
        "parameters = [\n",
        "    {'svcm__C': [1,13], 'svcm__kernel': ['linear']},\n",
        "    {'svcm__C': [1,13], 'svcm__kernel': ['poly'], 'svcm__degree': [1,6], 'svcm__gamma': ['scale', 'auto'], 'svcm__coef0': [-1,1]},\n",
        "    {'svcm__C': [1,13], 'svcm__kernel': ['rbf'], 'svcm__degree': [1,6], 'svcm__gamma': ['scale', 'auto']},\n",
        "    {'svcm__C': [1,13], 'svcm__kernel': ['sigmoid'], 'svcm__degree': [1,6], 'svcm__gamma': ['scale', 'auto'], 'svcm__coef0': [-1,1]}]\n",
        "svc_model = GridSearchCV(svc_m_pipline, parameters, n_jobs=-1)\n",
        "fit_model('svc', svc_model, x_train, y_train)"
      ],
      "metadata": {
        "colab": {
          "base_uri": "https://localhost:8080/"
        },
        "id": "uhTti7KtQuHP",
        "outputId": "1bb873cd-3bc5-4268-9cbd-ba32e81ea83d"
      },
      "execution_count": 40,
      "outputs": [
        {
          "output_type": "stream",
          "name": "stdout",
          "text": [
            "Confusion matrix:\n",
            " [[69  1]\n",
            " [ 2 42]]\n",
            "\n",
            "Accuracy:\t\t0.9736842105263158\n",
            "Recall:\t\t\t0.9545454545454546\n",
            "Precision:\t\t0.9767441860465116\n",
            "ROC_AUC curve:\t\t0.9701298701298702\n",
            "\n",
            "{'svcm__C': 1, 'svcm__degree': 1, 'svcm__gamma': 'scale', 'svcm__kernel': 'rbf'}\n"
          ]
        }
      ]
    },
    {
      "cell_type": "markdown",
      "source": [
        "# 2. Метод ближайших соседей\n",
        "Близкие друг к другу наблюдения называются “соседи”. Когда представляется новое наблюдение, обозначенное знаком вопроса, вычисляется его расстояние от всех других наблюдений в модели. Определяется классификация наиболее похожих наблюдений (ближайшее сходство) и новое наблюдение помещается в категорию, в которой содержится наибольшее количество ближайшего сходства. "
      ],
      "metadata": {
        "id": "mbb09CNLVe1L"
      }
    },
    {
      "cell_type": "code",
      "source": [
        "knn_pipeline = Pipeline([('preprocess', StandardScaler()), ('knn', KNeighborsClassifier())])\n",
        "parameters = [\n",
        "    {'knn__n_neighbors': [1, 15], 'knn__weights': ['uniform', 'distance'], 'knn__algorithm': ['auto', 'ball_tree', 'kd_tree', 'brute'], 'knn__leaf_size': [5, 70], 'knn__p': [1,2]},\n",
        "    {'knn__n_neighbors': [1, 15], 'knn__weights': ['uniform', 'distance'], 'knn__algorithm': ['auto','brute'], 'knn__p': [1,2]}]\n",
        "knn_model = GridSearchCV(knn_pipeline, parameters)\n",
        "fit_model('knn', knn_model, x_train, y_train)"
      ],
      "metadata": {
        "colab": {
          "base_uri": "https://localhost:8080/"
        },
        "id": "89vHPQ8FRLsX",
        "outputId": "49bc928a-2bd0-4b9e-855e-c275d5996abf"
      },
      "execution_count": 41,
      "outputs": [
        {
          "output_type": "stream",
          "name": "stdout",
          "text": [
            "Confusion matrix:\n",
            " [[70  0]\n",
            " [ 4 40]]\n",
            "\n",
            "Accuracy:\t\t0.9649122807017544\n",
            "Recall:\t\t\t0.9090909090909091\n",
            "Precision:\t\t1.0\n",
            "ROC_AUC curve:\t\t0.9545454545454546\n",
            "\n",
            "{'knn__algorithm': 'auto', 'knn__leaf_size': 5, 'knn__n_neighbors': 15, 'knn__p': 2, 'knn__weights': 'distance'}\n"
          ]
        }
      ]
    },
    {
      "cell_type": "markdown",
      "source": [
        "# 3. Наивный метод Байеса\n",
        "Основана на теореме Байеса: Теорема Байеса — это простая математическая формула, используемая для вычисления условных вероятностей.\n"
      ],
      "metadata": {
        "id": "aRCVfC_cVt_R"
      }
    },
    {
      "cell_type": "code",
      "source": [
        "bay_pipeline = Pipeline([('preprocess', StandardScaler()),('bay', GaussianNB())])\n",
        "parameters = [\n",
        "    {'bay__var_smoothing': [1e-10, 1.0]}]\n",
        "bay_model = GridSearchCV(bay_pipeline, parameters)\n",
        "fit_model('bay', bay_model, x_train, y_train )"
      ],
      "metadata": {
        "colab": {
          "base_uri": "https://localhost:8080/"
        },
        "id": "ec4VCF3TROSq",
        "outputId": "5f4b71d9-21a5-41a5-9278-ae12e9ae97eb"
      },
      "execution_count": 42,
      "outputs": [
        {
          "output_type": "stream",
          "name": "stdout",
          "text": [
            "Confusion matrix:\n",
            " [[69  1]\n",
            " [ 5 39]]\n",
            "\n",
            "Accuracy:\t\t0.9473684210526315\n",
            "Recall:\t\t\t0.8863636363636364\n",
            "Precision:\t\t0.975\n",
            "ROC_AUC curve:\t\t0.936038961038961\n",
            "\n",
            "{'bay__var_smoothing': 1e-10}\n"
          ]
        }
      ]
    },
    {
      "cell_type": "markdown",
      "source": [
        "# 4. Метод «случайный лес»\n",
        "Каждое отдельное дерево в таком лесу дает предсказание класса, и набравший наибольшее количество голосов Класс (Class), становится предсказанием Модели (Model)."
      ],
      "metadata": {
        "id": "h-CjNUKcWUD2"
      }
    },
    {
      "cell_type": "code",
      "source": [
        "r_forest_pipeline = Pipeline([('preprocess', StandardScaler()), ('rfr', RandomForestClassifier())])\n",
        "parameters = [\n",
        "    {'rfr__n_estimators': [60, 140], 'rfr__criterion': ('gini', 'entropy'), 'rfr__min_samples_split': [2, 5], \n",
        "     'rfr__min_samples_leaf': [2, 4], 'rfr__min_weight_fraction_leaf': [0.0, 0.1], 'rfr__max_features': ('sqrt', 'log2'), \n",
        "     'rfr__min_impurity_decrease': [0.0, 0.1], 'rfr__ccp_alpha':[0.0, 0.2], 'rfr__min_impurity_decrease': [0.0]}]\n",
        "r_forest_model = GridSearchCV(r_forest_pipeline, parameters, n_jobs=-1)\n",
        "fit_model('r_forest', r_forest_model, x_train, y_train)"
      ],
      "metadata": {
        "colab": {
          "base_uri": "https://localhost:8080/"
        },
        "id": "Di4rpfDeRSfx",
        "outputId": "ccc72d34-bc54-41c8-b0d6-b07550d74107"
      },
      "execution_count": 43,
      "outputs": [
        {
          "output_type": "stream",
          "name": "stdout",
          "text": [
            "Confusion matrix:\n",
            " [[69  1]\n",
            " [ 4 40]]\n",
            "\n",
            "Accuracy:\t\t0.956140350877193\n",
            "Recall:\t\t\t0.9090909090909091\n",
            "Precision:\t\t0.975609756097561\n",
            "ROC_AUC curve:\t\t0.9474025974025975\n",
            "\n",
            "{'rfr__ccp_alpha': 0.0, 'rfr__criterion': 'entropy', 'rfr__max_features': 'sqrt', 'rfr__min_impurity_decrease': 0.0, 'rfr__min_samples_leaf': 2, 'rfr__min_samples_split': 2, 'rfr__min_weight_fraction_leaf': 0.0, 'rfr__n_estimators': 60}\n"
          ]
        }
      ]
    },
    {
      "cell_type": "markdown",
      "source": [
        "# 5. Метод логической регрессии\n",
        "Метод для анализа набора данных, в котором есть одна или несколько независимых переменных, которые определяют результат"
      ],
      "metadata": {
        "id": "OhSju10QWqrn"
      }
    },
    {
      "cell_type": "code",
      "source": [
        "simplefilter(\"ignore\", category=ConvergenceWarning)\n",
        "logreg = LogisticRegression(max_iter=250)\n",
        "logreg_pipline = Pipeline([('preprocess', StandardScaler()), ('LogisticRegression', logreg)])\n",
        "parameters = [\n",
        "    {'LogisticRegression__penalty': ['l2'], 'LogisticRegression__solver': ['lbfgs'], 'LogisticRegression__C': [1, 10]},\n",
        "    {'LogisticRegression__penalty': ['l2', 'l1'], 'LogisticRegression__solver': ['liblinear'], 'LogisticRegression__C': [1, 10]},\n",
        "    {'LogisticRegression__penalty': ['l2'], 'LogisticRegression__solver': ['newton-cg'], 'LogisticRegression__C': [1, 10]},\n",
        "    {'LogisticRegression__penalty': ['l2'], 'LogisticRegression__solver': ['sag'], 'LogisticRegression__C': [1, 10]},\n",
        "    {'LogisticRegression__penalty': ['l1', 'l2'], 'LogisticRegression__solver': ['saga'], 'LogisticRegression__C': [1, 10]}]\n",
        "logreg_model = GridSearchCV(logreg_pipline, parameters)\n",
        "fit_model('LogisticRegression', logreg_model, x_train, y_train)"
      ],
      "metadata": {
        "colab": {
          "base_uri": "https://localhost:8080/"
        },
        "id": "RbqJxUuVRXMY",
        "outputId": "404f7445-f594-4a78-dafd-7a2b3abf5695"
      },
      "execution_count": 44,
      "outputs": [
        {
          "output_type": "stream",
          "name": "stdout",
          "text": [
            "Confusion matrix:\n",
            " [[69  1]\n",
            " [ 1 43]]\n",
            "\n",
            "Accuracy:\t\t0.9824561403508771\n",
            "Recall:\t\t\t0.9772727272727273\n",
            "Precision:\t\t0.9772727272727273\n",
            "ROC_AUC curve:\t\t0.9814935064935065\n",
            "\n",
            "{'LogisticRegression__C': 10, 'LogisticRegression__penalty': 'l1', 'LogisticRegression__solver': 'saga'}\n"
          ]
        }
      ]
    },
    {
      "cell_type": "code",
      "source": [
        "result = pd.DataFrame({'model': ['SVC','KNeighborsClassifier', 'GaussianNB', 'RandomForest', 'LogisticRegression'], \n",
        "                       'Accuracy': [0.973,  0.964, 0.947, 0.956, 0.982], \n",
        "                       'Recall': [ 0.954,  0.909, 0.886,0.909,0.977], \n",
        "                       'Precision': [ 0.976,  1.0, 0.975,0.975,0.977], \n",
        "                       'ROC_AUC curve': [\t0.970,0.954, 0.936,0.947,0.981]})\n",
        "result"
      ],
      "metadata": {
        "colab": {
          "base_uri": "https://localhost:8080/",
          "height": 206
        },
        "id": "qcpYXRirTAi4",
        "outputId": "304c01e8-7e47-433d-c2a1-d02b53d854e9"
      },
      "execution_count": 45,
      "outputs": [
        {
          "output_type": "execute_result",
          "data": {
            "text/plain": [
              "                  model  Accuracy  Recall  Precision  ROC_AUC curve\n",
              "0                   SVC     0.973   0.954      0.976          0.970\n",
              "1  KNeighborsClassifier     0.964   0.909      1.000          0.954\n",
              "2            GaussianNB     0.947   0.886      0.975          0.936\n",
              "3          RandomForest     0.956   0.909      0.975          0.947\n",
              "4    LogisticRegression     0.982   0.977      0.977          0.981"
            ],
            "text/html": [
              "\n",
              "  <div id=\"df-234320e6-9371-4a44-ba0c-ff6f7e3e9ee0\">\n",
              "    <div class=\"colab-df-container\">\n",
              "      <div>\n",
              "<style scoped>\n",
              "    .dataframe tbody tr th:only-of-type {\n",
              "        vertical-align: middle;\n",
              "    }\n",
              "\n",
              "    .dataframe tbody tr th {\n",
              "        vertical-align: top;\n",
              "    }\n",
              "\n",
              "    .dataframe thead th {\n",
              "        text-align: right;\n",
              "    }\n",
              "</style>\n",
              "<table border=\"1\" class=\"dataframe\">\n",
              "  <thead>\n",
              "    <tr style=\"text-align: right;\">\n",
              "      <th></th>\n",
              "      <th>model</th>\n",
              "      <th>Accuracy</th>\n",
              "      <th>Recall</th>\n",
              "      <th>Precision</th>\n",
              "      <th>ROC_AUC curve</th>\n",
              "    </tr>\n",
              "  </thead>\n",
              "  <tbody>\n",
              "    <tr>\n",
              "      <th>0</th>\n",
              "      <td>SVC</td>\n",
              "      <td>0.973</td>\n",
              "      <td>0.954</td>\n",
              "      <td>0.976</td>\n",
              "      <td>0.970</td>\n",
              "    </tr>\n",
              "    <tr>\n",
              "      <th>1</th>\n",
              "      <td>KNeighborsClassifier</td>\n",
              "      <td>0.964</td>\n",
              "      <td>0.909</td>\n",
              "      <td>1.000</td>\n",
              "      <td>0.954</td>\n",
              "    </tr>\n",
              "    <tr>\n",
              "      <th>2</th>\n",
              "      <td>GaussianNB</td>\n",
              "      <td>0.947</td>\n",
              "      <td>0.886</td>\n",
              "      <td>0.975</td>\n",
              "      <td>0.936</td>\n",
              "    </tr>\n",
              "    <tr>\n",
              "      <th>3</th>\n",
              "      <td>RandomForest</td>\n",
              "      <td>0.956</td>\n",
              "      <td>0.909</td>\n",
              "      <td>0.975</td>\n",
              "      <td>0.947</td>\n",
              "    </tr>\n",
              "    <tr>\n",
              "      <th>4</th>\n",
              "      <td>LogisticRegression</td>\n",
              "      <td>0.982</td>\n",
              "      <td>0.977</td>\n",
              "      <td>0.977</td>\n",
              "      <td>0.981</td>\n",
              "    </tr>\n",
              "  </tbody>\n",
              "</table>\n",
              "</div>\n",
              "      <button class=\"colab-df-convert\" onclick=\"convertToInteractive('df-234320e6-9371-4a44-ba0c-ff6f7e3e9ee0')\"\n",
              "              title=\"Convert this dataframe to an interactive table.\"\n",
              "              style=\"display:none;\">\n",
              "        \n",
              "  <svg xmlns=\"http://www.w3.org/2000/svg\" height=\"24px\"viewBox=\"0 0 24 24\"\n",
              "       width=\"24px\">\n",
              "    <path d=\"M0 0h24v24H0V0z\" fill=\"none\"/>\n",
              "    <path d=\"M18.56 5.44l.94 2.06.94-2.06 2.06-.94-2.06-.94-.94-2.06-.94 2.06-2.06.94zm-11 1L8.5 8.5l.94-2.06 2.06-.94-2.06-.94L8.5 2.5l-.94 2.06-2.06.94zm10 10l.94 2.06.94-2.06 2.06-.94-2.06-.94-.94-2.06-.94 2.06-2.06.94z\"/><path d=\"M17.41 7.96l-1.37-1.37c-.4-.4-.92-.59-1.43-.59-.52 0-1.04.2-1.43.59L10.3 9.45l-7.72 7.72c-.78.78-.78 2.05 0 2.83L4 21.41c.39.39.9.59 1.41.59.51 0 1.02-.2 1.41-.59l7.78-7.78 2.81-2.81c.8-.78.8-2.07 0-2.86zM5.41 20L4 18.59l7.72-7.72 1.47 1.35L5.41 20z\"/>\n",
              "  </svg>\n",
              "      </button>\n",
              "      \n",
              "  <style>\n",
              "    .colab-df-container {\n",
              "      display:flex;\n",
              "      flex-wrap:wrap;\n",
              "      gap: 12px;\n",
              "    }\n",
              "\n",
              "    .colab-df-convert {\n",
              "      background-color: #E8F0FE;\n",
              "      border: none;\n",
              "      border-radius: 50%;\n",
              "      cursor: pointer;\n",
              "      display: none;\n",
              "      fill: #1967D2;\n",
              "      height: 32px;\n",
              "      padding: 0 0 0 0;\n",
              "      width: 32px;\n",
              "    }\n",
              "\n",
              "    .colab-df-convert:hover {\n",
              "      background-color: #E2EBFA;\n",
              "      box-shadow: 0px 1px 2px rgba(60, 64, 67, 0.3), 0px 1px 3px 1px rgba(60, 64, 67, 0.15);\n",
              "      fill: #174EA6;\n",
              "    }\n",
              "\n",
              "    [theme=dark] .colab-df-convert {\n",
              "      background-color: #3B4455;\n",
              "      fill: #D2E3FC;\n",
              "    }\n",
              "\n",
              "    [theme=dark] .colab-df-convert:hover {\n",
              "      background-color: #434B5C;\n",
              "      box-shadow: 0px 1px 3px 1px rgba(0, 0, 0, 0.15);\n",
              "      filter: drop-shadow(0px 1px 2px rgba(0, 0, 0, 0.3));\n",
              "      fill: #FFFFFF;\n",
              "    }\n",
              "  </style>\n",
              "\n",
              "      <script>\n",
              "        const buttonEl =\n",
              "          document.querySelector('#df-234320e6-9371-4a44-ba0c-ff6f7e3e9ee0 button.colab-df-convert');\n",
              "        buttonEl.style.display =\n",
              "          google.colab.kernel.accessAllowed ? 'block' : 'none';\n",
              "\n",
              "        async function convertToInteractive(key) {\n",
              "          const element = document.querySelector('#df-234320e6-9371-4a44-ba0c-ff6f7e3e9ee0');\n",
              "          const dataTable =\n",
              "            await google.colab.kernel.invokeFunction('convertToInteractive',\n",
              "                                                     [key], {});\n",
              "          if (!dataTable) return;\n",
              "\n",
              "          const docLinkHtml = 'Like what you see? Visit the ' +\n",
              "            '<a target=\"_blank\" href=https://colab.research.google.com/notebooks/data_table.ipynb>data table notebook</a>'\n",
              "            + ' to learn more about interactive tables.';\n",
              "          element.innerHTML = '';\n",
              "          dataTable['output_type'] = 'display_data';\n",
              "          await google.colab.output.renderOutput(dataTable, element);\n",
              "          const docLink = document.createElement('div');\n",
              "          docLink.innerHTML = docLinkHtml;\n",
              "          element.appendChild(docLink);\n",
              "        }\n",
              "      </script>\n",
              "    </div>\n",
              "  </div>\n",
              "  "
            ]
          },
          "metadata": {},
          "execution_count": 45
        }
      ]
    },
    {
      "cell_type": "markdown",
      "source": [
        "# Вывод:\n",
        "\n",
        "1.   Наилучшие результаты показал метод линейной регрессии. Точность- 98,2% Полнота- 97,7%\n",
        "\n",
        "2.  Наихудшие результаты показал наивный метод Байеса. Точность- 94,7% Полнота- 88,6%\n",
        "\n",
        "Обусловлено это тем, что в первой лабораторной работе у нас была высокая корреляция.\n"
      ],
      "metadata": {
        "id": "jPEy6ycbgKD-"
      }
    }
  ]
}